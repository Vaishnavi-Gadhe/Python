{
  "cells": [
    {
      "cell_type": "code",
      "execution_count": null,
      "id": "8b6a7b1a-3ff5-4b22-be3e-d3b2d7aa7e3a",
      "metadata": {
        "id": "8b6a7b1a-3ff5-4b22-be3e-d3b2d7aa7e3a"
      },
      "outputs": [],
      "source": [
        "#INHERITANCE CONCEPT"
      ]
    },
    {
      "cell_type": "code",
      "source": [
        "class a : #Creating class A\n",
        "\n",
        "    def test(self): #Creating function\n",
        "        print(\"this test method is a part of class a\")\n",
        "\n",
        "    def test1(self):#Creating function\n",
        "        print(\"this is test1 from class a \")"
      ],
      "metadata": {
        "id": "BywGSwIcuk8m"
      },
      "id": "BywGSwIcuk8m",
      "execution_count": null,
      "outputs": []
    },
    {
      "cell_type": "code",
      "execution_count": null,
      "id": "8e4d306f-fdb4-47a0-a93d-597f5b21d30b",
      "metadata": {
        "id": "8e4d306f-fdb4-47a0-a93d-597f5b21d30b"
      },
      "outputs": [],
      "source": [
        "obj_a = a() # Object..CLass"
      ]
    },
    {
      "cell_type": "code",
      "execution_count": null,
      "id": "81ef5597-cf96-4ed9-a4f6-21e2e93aca70",
      "metadata": {
        "id": "81ef5597-cf96-4ed9-a4f6-21e2e93aca70",
        "outputId": "a97486ff-5baf-4fb7-f25e-54a385732d37"
      },
      "outputs": [
        {
          "name": "stdout",
          "output_type": "stream",
          "text": [
            "this test method is a part of class a\n"
          ]
        }
      ],
      "source": [
        "obj_a.test() #Object function"
      ]
    },
    {
      "cell_type": "code",
      "source": [
        "class b(a) : # For class B, we can copy the code of class A, problem resolved, but we are writing same code of lines again and again, which is nor ideal\n",
        "    def test(self): #Creating function\n",
        "      print(\"this test method is a part of class a\")"
      ],
      "metadata": {
        "id": "PHM00780iYcy"
      },
      "id": "PHM00780iYcy",
      "execution_count": null,
      "outputs": []
    },
    {
      "cell_type": "code",
      "execution_count": null,
      "id": "11ee63d6-433d-48dc-ada0-5dd6771310ba",
      "metadata": {
        "id": "11ee63d6-433d-48dc-ada0-5dd6771310ba"
      },
      "outputs": [],
      "source": [
        "class b(a) : #Inheriting class a\n",
        "    def test1b(self):\n",
        "        print(\"this is a part of class b \")"
      ]
    },
    {
      "cell_type": "code",
      "execution_count": null,
      "id": "badaedfe-57d1-43c6-9193-e5afb0f31dbc",
      "metadata": {
        "id": "badaedfe-57d1-43c6-9193-e5afb0f31dbc"
      },
      "outputs": [],
      "source": [
        "obj_b = b() #Now for class b class functions and class A are accesible"
      ]
    },
    {
      "cell_type": "code",
      "execution_count": null,
      "id": "3ce19f61-ba8e-4050-9d4d-614adfd964c5",
      "metadata": {
        "id": "3ce19f61-ba8e-4050-9d4d-614adfd964c5",
        "outputId": "91fea280-43c3-4abe-de9c-862353bebbb2"
      },
      "outputs": [
        {
          "name": "stdout",
          "output_type": "stream",
          "text": [
            "this test method is a part of class a\n"
          ]
        }
      ],
      "source": [
        "obj_b.test()"
      ]
    },
    {
      "cell_type": "code",
      "execution_count": null,
      "id": "5e473fae-e094-4407-99df-16a04ab4c80a",
      "metadata": {
        "id": "5e473fae-e094-4407-99df-16a04ab4c80a",
        "outputId": "2d55b617-6a64-444d-89bc-256f6f1fa1c7"
      },
      "outputs": [
        {
          "name": "stdout",
          "output_type": "stream",
          "text": [
            "this is test1 from class a \n"
          ]
        }
      ],
      "source": [
        "obj_b.test1()"
      ]
    },
    {
      "cell_type": "code",
      "execution_count": null,
      "id": "02a8f055-535f-4bc2-adc1-575445f82570",
      "metadata": {
        "id": "02a8f055-535f-4bc2-adc1-575445f82570"
      },
      "outputs": [],
      "source": [
        "obj_b."
      ]
    },
    {
      "cell_type": "code",
      "execution_count": null,
      "id": "59361cd3-c0c4-4ddd-abac-cbe3275ade5f",
      "metadata": {
        "id": "59361cd3-c0c4-4ddd-abac-cbe3275ade5f"
      },
      "outputs": [],
      "source": [
        "class lecture:\n",
        "\n",
        "    def topic(self):\n",
        "        print(\"todays class we are discussing about inheritance condept in oops\")\n",
        "\n",
        "    def timing(self):\n",
        "        print(\"timing for todays class is 9 AM IST\")\n",
        "\n",
        "    def end_time(self):\n",
        "        print(\"today i will try to end class bit early\")"
      ]
    },
    {
      "cell_type": "code",
      "execution_count": null,
      "id": "6e3dd2de-883e-4e9e-98a0-4a7089af1627",
      "metadata": {
        "id": "6e3dd2de-883e-4e9e-98a0-4a7089af1627"
      },
      "outputs": [],
      "source": [
        "class student(lecture):\n",
        "\n",
        "    def student_details(self):\n",
        "        print(\"this class will give you a student details\")"
      ]
    },
    {
      "cell_type": "code",
      "execution_count": null,
      "id": "c2ad2a89-0f29-4410-86c4-e33f47b4186d",
      "metadata": {
        "id": "c2ad2a89-0f29-4410-86c4-e33f47b4186d"
      },
      "outputs": [],
      "source": [
        "naval = student()"
      ]
    },
    {
      "cell_type": "code",
      "execution_count": null,
      "id": "38c86e7f-5560-464a-b597-c88a74819f1a",
      "metadata": {
        "id": "38c86e7f-5560-464a-b597-c88a74819f1a",
        "outputId": "eed8dea8-aa2e-4b74-b82a-673a13f72fb9"
      },
      "outputs": [
        {
          "name": "stdout",
          "output_type": "stream",
          "text": [
            "todays class we are discussing about inheritance condept in oops\n"
          ]
        }
      ],
      "source": [
        "naval.topic()"
      ]
    },
    {
      "cell_type": "code",
      "execution_count": null,
      "id": "02efc8a4-f995-4f85-87d2-620ccc0f61fa",
      "metadata": {
        "id": "02efc8a4-f995-4f85-87d2-620ccc0f61fa",
        "outputId": "09f270d2-2429-48e1-82b6-d4c47ab60b06"
      },
      "outputs": [
        {
          "name": "stdout",
          "output_type": "stream",
          "text": [
            "timing for todays class is 9 AM IST\n"
          ]
        }
      ],
      "source": [
        "satish = student()\n",
        "satish.timing()"
      ]
    },
    {
      "cell_type": "code",
      "execution_count": null,
      "id": "03932972-a58b-46e5-a3f8-ffc43c84ce53",
      "metadata": {
        "id": "03932972-a58b-46e5-a3f8-ffc43c84ce53"
      },
      "outputs": [],
      "source": [
        "class teacher(student): ##TEACHER CLASS....Inheriting lecture class her, because we are inheriting lecture class in student as well..whatever is avilable in lecture class is available for student and teacher class as well\n",
        "    def details(self):\n",
        "        print(\"this will give you a details about teacher\")\n",
        "\n",
        "#Example of Multilevel inheritance: When we have a child and grandchild relationship. This means that a child class will inherit from its parent class, which in turn is inheriting from its parent class."
      ]
    },
    {
      "cell_type": "code",
      "execution_count": null,
      "id": "fff36c1b-f1e9-467e-b29f-c304aa9feec9",
      "metadata": {
        "id": "fff36c1b-f1e9-467e-b29f-c304aa9feec9",
        "outputId": "74cb33b2-cdc1-4d02-fa1c-9ab3d4845f42"
      },
      "outputs": [
        {
          "name": "stdout",
          "output_type": "stream",
          "text": [
            "timing for todays class is 9 AM IST\n"
          ]
        }
      ],
      "source": [
        "sudh = teacher()\n",
        "sudh.timing()"
      ]
    },
    {
      "cell_type": "code",
      "execution_count": null,
      "id": "a5e8c94b-de62-4ef5-8eba-81259d83dd3d",
      "metadata": {
        "id": "a5e8c94b-de62-4ef5-8eba-81259d83dd3d"
      },
      "outputs": [],
      "source": [
        "class lecture: #LECTURE CLASS\n",
        "    def topic(self):\n",
        "        print(\"todays class we are discussing about inheritance condept in oops\")\n",
        "\n",
        "    def timing(self):\n",
        "        print(\"timing for todays class is 9 AM IST\")\n",
        "\n",
        "    def end_time(self):\n",
        "        print(\"today i will try to end class bit early\")"
      ]
    },
    {
      "cell_type": "code",
      "execution_count": null,
      "id": "2007141c-1b71-4cd4-9bed-a3cd8d851baa",
      "metadata": {
        "id": "2007141c-1b71-4cd4-9bed-a3cd8d851baa"
      },
      "outputs": [],
      "source": [
        "class student: #STUDENT CLASS\n",
        "\n",
        "    def student_details(self):\n",
        "        print(\"this class will give you a student details\")\n",
        "\n",
        "    def timing(self):\n",
        "        print(\"this is a timing fun from student class\")"
      ]
    },
    {
      "cell_type": "code",
      "execution_count": null,
      "id": "272860d3-1fac-475b-8c09-0490069224bc",
      "metadata": {
        "id": "272860d3-1fac-475b-8c09-0490069224bc"
      },
      "outputs": [],
      "source": [
        "class teacher(lecture,student): #Inheriting lecture AND STUDENT class whereas these classes are independent\n",
        "    def details(self):\n",
        "        print(\"this will give you a details about teacher\")\n",
        "\n",
        "#Multiple inheritance: When a child class inherits from multiple parent classes, it is called multiple inheritances.s"
      ]
    },
    {
      "cell_type": "code",
      "source": [
        "class teacher(student, lecture): #Inheriting lecture AND STUDENT class whereas these classes are independent\n",
        "    def details(self):\n",
        "        print(\"this will give you a details about teacher\")"
      ],
      "metadata": {
        "id": "dKGgFyYT08JS"
      },
      "id": "dKGgFyYT08JS",
      "execution_count": null,
      "outputs": []
    },
    {
      "cell_type": "code",
      "source": [
        "krish = teacher()"
      ],
      "metadata": {
        "id": "Pf_MdErM1NDL"
      },
      "id": "Pf_MdErM1NDL",
      "execution_count": null,
      "outputs": []
    },
    {
      "cell_type": "code",
      "source": [
        "krish.timing() #We have same functions as timings in both lecture and student class...accessing from student class..based on the order of class\n",
        "'''class teacher(student, lecture): #Inheriting lecture AND STUDENT class whereas these classes are independent\n",
        "    def details(self):\n",
        "        print(\"this will give you a details about teacher\")'''"
      ],
      "metadata": {
        "colab": {
          "base_uri": "https://localhost:8080/"
        },
        "id": "rcKVfgqG0_U6",
        "outputId": "2be93831-140b-4800-d0c6-0eda00ebfbee"
      },
      "id": "rcKVfgqG0_U6",
      "execution_count": null,
      "outputs": [
        {
          "output_type": "stream",
          "name": "stdout",
          "text": [
            "this is a timing fun from student class\n"
          ]
        }
      ]
    },
    {
      "cell_type": "code",
      "execution_count": null,
      "id": "f4a9ae16-f0e3-4a4a-a003-38773611cd2a",
      "metadata": {
        "id": "f4a9ae16-f0e3-4a4a-a003-38773611cd2a"
      },
      "outputs": [],
      "source": [
        "krish = teacher()"
      ]
    },
    {
      "cell_type": "code",
      "execution_count": null,
      "id": "6dc85f37-219e-4c72-927c-9aebb550fea9",
      "metadata": {
        "id": "6dc85f37-219e-4c72-927c-9aebb550fea9",
        "outputId": "cc6576fb-612f-41ad-cfbe-e45503724407"
      },
      "outputs": [
        {
          "name": "stdout",
          "output_type": "stream",
          "text": [
            "timing for todays class is 9 AM IST\n"
          ]
        }
      ],
      "source": [
        "krish.timing() #Accessing from lecture class\n",
        "'''class teacher(lecture,student): #Inheriting lecture AND STUDENT class whereas these classes are independent\n",
        "    def details(self):\n",
        "        print(\"this will give you a details about teacher\")'''"
      ]
    },
    {
      "cell_type": "code",
      "execution_count": null,
      "id": "8bcbac88-9172-4a31-a191-9c4b9a1c6eac",
      "metadata": {
        "id": "8bcbac88-9172-4a31-a191-9c4b9a1c6eac",
        "outputId": "f4e5061a-f9f5-484e-b8bf-a8c94488bf3b"
      },
      "outputs": [
        {
          "name": "stdout",
          "output_type": "stream",
          "text": [
            "this class will give you a student details\n"
          ]
        }
      ],
      "source": [
        "krish.student_details()"
      ]
    },
    {
      "cell_type": "markdown",
      "id": "86b47d4f-860e-4702-83a0-0145887ab41a",
      "metadata": {
        "id": "86b47d4f-860e-4702-83a0-0145887ab41a"
      },
      "source": [
        "Problem 1: Bank Account Create a class representing a bank account with attributes like account number, account holder name, and balance. Implement methods to deposit and withdraw money from the account.\n",
        "\n",
        "Problem 2: Employee Management Create a class representing an employee with attributes like employee ID, name, and salary. Implement methods to calculate the yearly bonus and display employee details.\n",
        "\n",
        "Problem 3: Vehicle Rental Create a class representing a vehicle rental system. Implement methods to rent a vehicle, return a vehicle, and display available vehicles.\n",
        "\n",
        "Problem 4: Library Catalog Create classes representing a library and a book. Implement methods to add books to the library, borrow books, and display available books.\n",
        "\n",
        "Problem 5: Product Inventory Create classes representing a product and an inventory system. Implement methods to add products to the inventory, update product quantity, and display available products.\n",
        "\n",
        "Problem 6: Shape Calculation Create a class representing a shape with attributes like length, width, and height. Implement methods to calculate the area and perimeter of the shape.\n",
        "\n",
        "Problem 7: Student Management Create a class representing a student with attributes like student ID, name, and grades. Implement methods to calculate the average grade and display student details.\n",
        "\n",
        "Problem 8: Email Management Create a class representing an email with attributes like sender, recipient, and subject. Implement methods to send an email and display email details.\n",
        "\n",
        "Problem 9: Social Media Profile Create a class representing a social media profile with attributes like username and posts. Implement methods to add posts, display posts, and search for posts by keyword.\n",
        "\n",
        "Problem 10: ToDo List Create a class representing a ToDo list with attributes like tasks and due dates. Implement methods to add tasks, mark tasks as completed, and display pending tasks."
      ]
    },
    {
      "cell_type": "code",
      "execution_count": 8,
      "id": "fef1683a-faa4-4d27-a0a6-7a742e512e9b",
      "metadata": {
        "id": "fef1683a-faa4-4d27-a0a6-7a742e512e9b",
        "colab": {
          "base_uri": "https://localhost:8080/"
        },
        "outputId": "459d635d-12d7-4c38-9abb-7e0ccb7876c4"
      },
      "outputs": [
        {
          "output_type": "stream",
          "name": "stdout",
          "text": [
            "Account Number: 2345\n",
            "Account Holder Name: Chubul Pandey\n",
            "Balance: 50000 Rs.\n",
            "Deposited 20000 Rs. Current balance: 70000 Rs.\n",
            "Withdrew 10000 Rs. Current balance: 60000 Rs.\n"
          ]
        }
      ],
      "source": [
        "#1: Bank Account Create a class representing a bank account with attributes like account number, account holder name, and balance. Implement methods to deposit and withdraw money from the account.\n",
        "\n",
        "class BankAccount:\n",
        "    def __init__(self, account_number, account_holder_name, balance):\n",
        "        self.account_number = account_number\n",
        "        self.account_holder_name = account_holder_name\n",
        "        self.balance = balance\n",
        "\n",
        "    def deposit(self, amount):\n",
        "        self.balance += amount\n",
        "        print(f\"Deposited {amount} Rs. Current balance: {self.balance} Rs.\")\n",
        "\n",
        "    def withdraw(self, amount):\n",
        "        if amount > self.balance:\n",
        "            print(\"Insufficient balance\")\n",
        "        else:\n",
        "            self.balance -= amount\n",
        "            print(f\"Withdrew {amount} Rs. Current balance: {self.balance} Rs.\")\n",
        "\n",
        "    def display_details(self):\n",
        "        print(f\"Account Number: {self.account_number}\")\n",
        "        print(f\"Account Holder Name: {self.account_holder_name}\")\n",
        "        print(f\"Balance: {self.balance} Rs.\")\n",
        "\n",
        "# Creating an instance of BankAccount\n",
        "bank_account = BankAccount(\"2345\", \"Chubul Pandey\", 50000)\n",
        "\n",
        "# Displaying account details\n",
        "bank_account.display_details()\n",
        "\n",
        "# Depositing money\n",
        "bank_account.deposit(20000)\n",
        "\n",
        "# Withdrawing money\n",
        "bank_account.withdraw(10000)\n"
      ]
    },
    {
      "cell_type": "code",
      "source": [
        "#2:Employee Management Create a class representing an employee with attributes like employee ID, name, and salary. Implement methods to calculate the yearly bonus and display employee details.\n",
        "\n",
        "class Employee:\n",
        "    def __init__(self, emp_id, name, salary):\n",
        "        self.emp_id = emp_id\n",
        "        self.name = name\n",
        "        self.salary = salary\n",
        "\n",
        "    def calculate_yearly_bonus(self):\n",
        "        # Assuming bonus is 10% of the salary\n",
        "        bonus_percentage = 0.10\n",
        "        yearly_bonus = self.salary * bonus_percentage\n",
        "        return yearly_bonus\n",
        "\n",
        "    def display_employee_details(self):\n",
        "        print(\"Employee ID:\", self.emp_id)\n",
        "        print(\"Name:\", self.name)\n",
        "        print(\"Salary:\", self.salary)\n",
        "        print(\"Yearly Bonus:\", self.calculate_yearly_bonus())\n",
        "\n",
        "# Example usage:\n",
        "emp1 = Employee(\"EMP1\", \"John\", 350000)\n",
        "emp1.display_employee_details()"
      ],
      "metadata": {
        "colab": {
          "base_uri": "https://localhost:8080/"
        },
        "id": "pM_MKkMdKqpV",
        "outputId": "2e6ef249-549d-4b32-eb6a-912ed64dbf3f"
      },
      "id": "pM_MKkMdKqpV",
      "execution_count": 16,
      "outputs": [
        {
          "output_type": "stream",
          "name": "stdout",
          "text": [
            "Employee ID: EMP1\n",
            "Name: John\n",
            "Salary: 350000\n",
            "Yearly Bonus: 35000.0\n"
          ]
        }
      ]
    },
    {
      "cell_type": "code",
      "source": [
        "#3:Vehicle Rental Create a class representing a vehicle rental system. Implement methods to rent a vehicle, return a vehicle, and display available vehicles.\n",
        "\n",
        "class Vehicle:\n",
        "    def __init__(self, reg_number, model, year):\n",
        "        self.reg_number = reg_number\n",
        "        self.model = model\n",
        "        self.year = year\n",
        "        self.available = True\n",
        "\n",
        "    def rent(self):\n",
        "        if self.available:\n",
        "            self.available = False\n",
        "            print(f\"Vehicle {self.reg_number} rented successfully!\")\n",
        "        else:\n",
        "            print(f\"Vehicle {self.reg_number} is not available for rent.\")\n",
        "\n",
        "    def return_vehicle(self):\n",
        "        if not self.available:\n",
        "            self.available = True\n",
        "            print(f\"Vehicle {self.reg_number} returned successfully!\")\n",
        "        else:\n",
        "            print(f\"Vehicle {self.reg_number} has already been returned.\")\n",
        "\n",
        "class VehicleRentalSystem:\n",
        "    def __init__(self):\n",
        "        self.vehicles = []\n",
        "\n",
        "    def add_vehicle(self, vehicle):\n",
        "        self.vehicles.append(vehicle)\n",
        "\n",
        "    def display_available_vehicles(self):\n",
        "        print(\"Available Vehicles:\")\n",
        "        for vehicle in self.vehicles:\n",
        "            if vehicle.available:\n",
        "                print(f\"{vehicle.reg_number}: {vehicle.model}, Year: {vehicle.year}\")\n",
        "# Usage example:\n",
        "car1 = Vehicle(\"ABC123\", \"Toyota Camry\", 2020)\n",
        "car2 = Vehicle(\"XYZ456\", \"Honda Accord\", 2019)\n",
        "\n",
        "rental_system = VehicleRentalSystem()\n",
        "rental_system.add_vehicle(car1)\n",
        "rental_system.add_vehicle(car2)\n",
        "\n",
        "rental_system.display_available_vehicles()\n",
        "\n",
        "car1.rent()\n",
        "rental_system.display_available_vehicles()\n",
        "\n",
        "car2.rent()\n",
        "rental_system.display_available_vehicles()\n",
        "\n",
        "car1.return_vehicle()\n",
        "rental_system.display_available_vehicles()"
      ],
      "metadata": {
        "colab": {
          "base_uri": "https://localhost:8080/"
        },
        "id": "Ml7FpVOOKqwO",
        "outputId": "331afaad-61b4-41af-e9d1-13e6db82faa9"
      },
      "id": "Ml7FpVOOKqwO",
      "execution_count": 17,
      "outputs": [
        {
          "output_type": "stream",
          "name": "stdout",
          "text": [
            "Available Vehicles:\n",
            "ABC123: Toyota Camry, Year: 2020\n",
            "XYZ456: Honda Accord, Year: 2019\n",
            "Vehicle ABC123 rented successfully!\n",
            "Available Vehicles:\n",
            "XYZ456: Honda Accord, Year: 2019\n",
            "Vehicle XYZ456 rented successfully!\n",
            "Available Vehicles:\n",
            "Vehicle ABC123 returned successfully!\n",
            "Available Vehicles:\n",
            "ABC123: Toyota Camry, Year: 2020\n"
          ]
        }
      ]
    },
    {
      "cell_type": "code",
      "source": [
        "#4:Library Catalog Create classes representing a library and a book. Implement methods to add books to the library, borrow books, and display available books.\n",
        "class Book:\n",
        "    def __init__(self, book_name, author):\n",
        "        self.book_name = book_name\n",
        "        self.author = author\n",
        "        self.available = True\n",
        "    def borrow(self):\n",
        "        if self.available:\n",
        "            self.available = False\n",
        "            print(f\"Book '{self.book_name}' by {self.author} borrowed successfully!\")\n",
        "        else:\n",
        "            print(f\"Book '{self.book_name}' is not available for borrowing.\")\n",
        "\n",
        "    def return_book(self):\n",
        "        if not self.available:\n",
        "            self.available = True\n",
        "            print(f\"Book '{self.book_name}' returned successfully!\")\n",
        "        else:\n",
        "            print(f\"Book '{self.book_name}' has already been returned.\")\n",
        "\n",
        "class Library:\n",
        "    def __init__(self):\n",
        "        self.books = []\n",
        "\n",
        "    def add_book(self, book):\n",
        "        self.books.append(book)\n",
        "\n",
        "    def display_available_books(self):\n",
        "        print(\"Available Books:\")\n",
        "        for book in self.books:\n",
        "            if book.available:\n",
        "                print(f\"{book.book_name} by {book.author}\")\n",
        "# Usage example:\n",
        "book1 = Book(\"DSA\", \"John Doe\")\n",
        "book2 = Book(\"Python Programming\", \"Jane Smith\")\n",
        "library = Library()\n",
        "library.add_book(book1)\n",
        "library.add_book(book2)\n",
        "library.display_available_books()\n",
        "book1.borrow()\n",
        "library.display_available_books()\n",
        "book2.borrow()\n",
        "library.display_available_books()\n",
        "book1.return_book()\n",
        "library.display_available_books()"
      ],
      "metadata": {
        "colab": {
          "base_uri": "https://localhost:8080/"
        },
        "id": "Tkh2mLv8Kqz0",
        "outputId": "a46e4dd4-bb86-4bcb-e403-171a323d17cd"
      },
      "id": "Tkh2mLv8Kqz0",
      "execution_count": 21,
      "outputs": [
        {
          "output_type": "stream",
          "name": "stdout",
          "text": [
            "Available Books:\n",
            "DSA by John Doe\n",
            "Python Programming by Jane Smith\n",
            "Book 'DSA' by John Doe borrowed successfully!\n",
            "Available Books:\n",
            "Python Programming by Jane Smith\n",
            "Book 'Python Programming' by Jane Smith borrowed successfully!\n",
            "Available Books:\n",
            "Book 'DSA' returned successfully!\n",
            "Available Books:\n",
            "DSA by John Doe\n"
          ]
        }
      ]
    },
    {
      "cell_type": "code",
      "source": [
        "#5:Product Inventory Create classes representing a product and an inventory system. Implement methods to add products to the inventory, update product quantity, and display available products.\n",
        "class Product:\n",
        "    def __init__(self, product_id, name, price, quantity):\n",
        "        self.product_id = product_id\n",
        "        self.name = name\n",
        "        self.price = price\n",
        "        self.quantity = quantity\n",
        "\n",
        "    def update_quantity(self, new_quantity):\n",
        "        self.quantity = new_quantity\n",
        "\n",
        "    def display_product_info(self):\n",
        "        print(f\"Product ID: {self.product_id}\")\n",
        "        print(f\"Name: {self.name}\")\n",
        "        print(f\"Price: ${self.price}\")\n",
        "        print(f\"Quantity: {self.quantity}\")\n",
        "\n",
        "\n",
        "class Inventory:\n",
        "    def __init__(self):\n",
        "        self.products = []\n",
        "\n",
        "    def add_product(self, product):\n",
        "        self.products.append(product)\n",
        "\n",
        "    def update_product_quantity(self, product_id, new_quantity):\n",
        "        for product in self.products:\n",
        "            if product.product_id == product_id:\n",
        "                product.update_quantity(new_quantity)\n",
        "                break\n",
        "        else:\n",
        "            print(\"Product not found in inventory.\")\n",
        "\n",
        "    def display_available_products(self):\n",
        "        print(\"Available Products:\")\n",
        "        for product in self.products:\n",
        "            product.display_product_info()\n",
        "\n",
        "# Usage example:\n",
        "inventory = Inventory()\n",
        "\n",
        "product1 = Product(1, \"Laptop\", 999.99, 10)\n",
        "product2 = Product(2, \"Phone\", 499.99, 20)\n",
        "\n",
        "inventory.add_product(product1)\n",
        "inventory.add_product(product2)\n",
        "\n",
        "inventory.display_available_products()\n",
        "\n",
        "inventory.update_product_quantity(1, 5)\n",
        "inventory.display_available_products()"
      ],
      "metadata": {
        "colab": {
          "base_uri": "https://localhost:8080/"
        },
        "id": "kFQ0H8XCKq3k",
        "outputId": "e6d3e284-cdad-4f01-d788-5b46502e48e5"
      },
      "id": "kFQ0H8XCKq3k",
      "execution_count": 22,
      "outputs": [
        {
          "output_type": "stream",
          "name": "stdout",
          "text": [
            "Available Products:\n",
            "Product ID: 1\n",
            "Name: Laptop\n",
            "Price: $999.99\n",
            "Quantity: 10\n",
            "Product ID: 2\n",
            "Name: Phone\n",
            "Price: $499.99\n",
            "Quantity: 20\n",
            "Available Products:\n",
            "Product ID: 1\n",
            "Name: Laptop\n",
            "Price: $999.99\n",
            "Quantity: 5\n",
            "Product ID: 2\n",
            "Name: Phone\n",
            "Price: $499.99\n",
            "Quantity: 20\n"
          ]
        }
      ]
    },
    {
      "cell_type": "code",
      "source": [
        "#6:Shape Calculation Create a class representing a shape with attributes like length, width, and height. Implement methods to calculate the area and perimeter of the shape.\n",
        "class Shape:\n",
        "    def __init__(self, length=0, width=0, height=0):\n",
        "        self.length = length\n",
        "        self.width = width\n",
        "        self.height = height\n",
        "\n",
        "    def calculate_area(self):\n",
        "        raise NotImplementedError(\"Subclasses must implement calculate_area method\")\n",
        "\n",
        "    def calculate_perimeter(self):\n",
        "        raise NotImplementedError(\"Subclasses must implement calculate_perimeter method\")\n",
        "\n",
        "\n",
        "class Rectangle(Shape):\n",
        "    def calculate_area(self):\n",
        "        return self.length * self.width\n",
        "\n",
        "    def calculate_perimeter(self):\n",
        "        return 2 * (self.length + self.width)\n",
        "\n",
        "\n",
        "class Square(Rectangle):\n",
        "    def __init__(self, side_length):\n",
        "        super().__init__(side_length, side_length)\n",
        "\n",
        "    # Since Square inherits from Rectangle, it does not need to implement calculate_area and calculate_perimeter\n",
        "    # These methods are inherited from Rectangle and are already suitable for a square\n",
        "class Triangle(Shape):\n",
        "    def calculate_area(self):\n",
        "        # Using Heron's formula to calculate the area of a triangle\n",
        "        s = (self.length + self.width + self.height) / 2\n",
        "        return (s * (s - self.length) * (s - self.width) * (s - self.height)) ** 0.5\n",
        "\n",
        "    def calculate_perimeter(self):\n",
        "        return self.length + self.width + self.height\n",
        "\n",
        "\n",
        "# Usage example:\n",
        "rectangle = Rectangle(5, 4)\n",
        "print(\"Rectangle Area:\", rectangle.calculate_area())\n",
        "print(\"Rectangle Perimeter:\", rectangle.calculate_perimeter())\n",
        "\n",
        "square = Square(5)\n",
        "print(\"Square Area:\", square.calculate_area())\n",
        "print(\"Square Perimeter:\", square.calculate_perimeter())\n",
        "\n",
        "triangle = Triangle(3, 4, 5)\n",
        "print(\"Triangle Area:\", triangle.calculate_area())\n",
        "print(\"Triangle Perimeter:\", triangle.calculate_perimeter())"
      ],
      "metadata": {
        "colab": {
          "base_uri": "https://localhost:8080/"
        },
        "id": "W_q7XVAQKq7A",
        "outputId": "b27fd46e-ceed-4386-cb0f-b75694e46ab4"
      },
      "id": "W_q7XVAQKq7A",
      "execution_count": 23,
      "outputs": [
        {
          "output_type": "stream",
          "name": "stdout",
          "text": [
            "Rectangle Area: 20\n",
            "Rectangle Perimeter: 18\n",
            "Square Area: 25\n",
            "Square Perimeter: 20\n",
            "Triangle Area: 6.0\n",
            "Triangle Perimeter: 12\n"
          ]
        }
      ]
    },
    {
      "cell_type": "code",
      "source": [
        "#7: Student Management Create a class representing a student with attributes like student ID, name, and grades. Implement methods to calculate the average grade and display student details\n",
        "class Student:\n",
        "    def __init__(self, student_id, name, grades=[]):\n",
        "        self.student_id = student_id\n",
        "        self.name = name\n",
        "        self.grades = grades\n",
        "\n",
        "    def calculate_average_grade(self):\n",
        "        if not self.grades:\n",
        "            return 0\n",
        "        return sum(self.grades) / len(self.grades)\n",
        "\n",
        "    def display_student_details(self):\n",
        "        print(\"Student ID:\", self.student_id)\n",
        "        print(\"Name:\", self.name)\n",
        "        print(\"Grades:\", self.grades)\n",
        "        print(\"Average Grade:\", self.calculate_average_grade())\n",
        "\n",
        "\n",
        "# Example usage:\n",
        "student1 = Student(1, \"Alice\", [80, 85, 90])\n",
        "student1.display_student_details()\n",
        "\n",
        "student2 = Student(2, \"Bob\", [70, 75, 80])\n",
        "student2.display_student_details()\n",
        "\n",
        "student3 = Student(3, \"Charlie\")\n",
        "student3.display_student_details()  # This will display 0 for the average grade since no grades are provided"
      ],
      "metadata": {
        "colab": {
          "base_uri": "https://localhost:8080/"
        },
        "id": "OBjDGy8PKq-Z",
        "outputId": "d2dfde61-955e-4b9d-84c0-c6fbef28982f"
      },
      "id": "OBjDGy8PKq-Z",
      "execution_count": 24,
      "outputs": [
        {
          "output_type": "stream",
          "name": "stdout",
          "text": [
            "Student ID: 1\n",
            "Name: Alice\n",
            "Grades: [80, 85, 90]\n",
            "Average Grade: 85.0\n",
            "Student ID: 2\n",
            "Name: Bob\n",
            "Grades: [70, 75, 80]\n",
            "Average Grade: 75.0\n",
            "Student ID: 3\n",
            "Name: Charlie\n",
            "Grades: []\n",
            "Average Grade: 0\n"
          ]
        }
      ]
    },
    {
      "cell_type": "code",
      "source": [
        "#8: Email Management Create a class representing an email with attributes like sender, recipient, and subject. Implement methods to send an email and display email details.\n",
        "class Email:\n",
        "    def __init__(self, sender, recipient, subject, body):\n",
        "        self.sender = sender\n",
        "        self.recipient = recipient\n",
        "        self.subject = subject\n",
        "        self.body = body\n",
        "\n",
        "    def send_email(self):\n",
        "        print(\"Email sent!\")\n",
        "        print(\"From:\", self.sender)\n",
        "        print(\"To:\", self.recipient)\n",
        "        print(\"Subject:\", self.subject)\n",
        "        print(\"Body:\", self.body)\n",
        "\n",
        "    def display_email_details(self):\n",
        "        print(\"Sender:\", self.sender)\n",
        "        print(\"Recipient:\", self.recipient)\n",
        "        print(\"Subject:\", self.subject)\n",
        "        print(\"Body:\", self.body)\n",
        "\n",
        "# Example usage:\n",
        "email1 = Email(\"sender@example.com\", \"recipient@example.com\", \"Hello\", \"This is a test email.\")\n",
        "email1.send_email()\n",
        "\n",
        "email2 = Email(\"john@example.com\", \"alice@example.com\", \"Meeting Agenda\", \"Here is the agenda for the meeting.\")\n",
        "email2.display_email_details()"
      ],
      "metadata": {
        "colab": {
          "base_uri": "https://localhost:8080/"
        },
        "id": "Z4-pR7pdovSq",
        "outputId": "b268c8cc-d269-48ef-bd09-21e9b76170ff"
      },
      "id": "Z4-pR7pdovSq",
      "execution_count": 25,
      "outputs": [
        {
          "output_type": "stream",
          "name": "stdout",
          "text": [
            "Email sent!\n",
            "From: sender@example.com\n",
            "To: recipient@example.com\n",
            "Subject: Hello\n",
            "Body: This is a test email.\n",
            "Sender: john@example.com\n",
            "Recipient: alice@example.com\n",
            "Subject: Meeting Agenda\n",
            "Body: Here is the agenda for the meeting.\n"
          ]
        }
      ]
    },
    {
      "cell_type": "code",
      "source": [
        "#9: Social Media Profile Create a class representing a social media profile with attributes like username and posts. Implement methods to add posts, display posts, and search for posts by keyword.\n",
        "class SocialMediaProfile:\n",
        "    def __init__(self, username):\n",
        "        self.username = username\n",
        "        self.posts = []\n",
        "\n",
        "    def add_post(self, post):\n",
        "        self.posts.append(post)\n",
        "        print(\"Post added successfully!\")\n",
        "\n",
        "    def display_posts(self):\n",
        "        if self.posts:\n",
        "            print(\"Posts by\", self.username + \":\")\n",
        "            for i, post in enumerate(self.posts, start=1):\n",
        "                print(f\"{i}. {post}\")\n",
        "        else:\n",
        "            print(\"No posts to display.\")\n",
        "\n",
        "    def search_posts_by_keyword(self, keyword):\n",
        "        matching_posts = [post for post in self.posts if keyword in post]\n",
        "        if matching_posts:\n",
        "            print(\"Matching posts for keyword\", keyword + \":\")\n",
        "            for i, post in enumerate(matching_posts, start=1):\n",
        "                print(f\"{i}. {post}\")\n",
        "        else:\n",
        "            print(\"No posts found matching the keyword.\")\n",
        "\n",
        "# Example usage:\n",
        "profile = SocialMediaProfile(\"john_doe\")\n",
        "\n",
        "profile.add_post(\"Just had a great day at the beach!\")\n",
        "profile.add_post(\"Eating pizza with friends\")\n",
        "profile.add_post(\"Watching my favorite movie.\")\n",
        "\n",
        "profile.display_posts()\n",
        "\n",
        "profile.search_posts_by_keyword(\"beach\")"
      ],
      "metadata": {
        "colab": {
          "base_uri": "https://localhost:8080/"
        },
        "id": "msuUDC18ovV4",
        "outputId": "11ab30da-1e4d-4268-9c41-21083824bce0"
      },
      "id": "msuUDC18ovV4",
      "execution_count": 26,
      "outputs": [
        {
          "output_type": "stream",
          "name": "stdout",
          "text": [
            "Post added successfully!\n",
            "Post added successfully!\n",
            "Post added successfully!\n",
            "Posts by john_doe:\n",
            "1. Just had a great day at the beach!\n",
            "2. Eating pizza with friends\n",
            "3. Watching my favorite movie.\n",
            "Matching posts for keyword beach:\n",
            "1. Just had a great day at the beach!\n"
          ]
        }
      ]
    },
    {
      "cell_type": "code",
      "source": [
        "#10: ToDo List Create a class representing a ToDo list with attributes like tasks and due dates. Implement methods to add tasks, mark tasks as completed, and display pending tasks.\n",
        "class ToDoList:\n",
        "    def __init__(self):\n",
        "        self.tasks = {}\n",
        "\n",
        "    def add_task(self, task, due_date):\n",
        "        self.tasks[task] = due_date\n",
        "        print(\"Task added successfully!\")\n",
        "\n",
        "    def mark_task_as_completed(self, task):\n",
        "        if task in self.tasks:\n",
        "            del self.tasks[task]\n",
        "            print(\"Task marked as completed!\")\n",
        "        else:\n",
        "            print(\"Task not found in ToDo list.\")\n",
        "\n",
        "    def display_pending_tasks(self):\n",
        "        if self.tasks:\n",
        "            print(\"Pending Tasks:\")\n",
        "            for task, due_date in self.tasks.items():\n",
        "                print(f\"- {task} (Due: {due_date})\")\n",
        "        else:\n",
        "            print(\"No pending tasks.\")\n",
        "\n",
        "# Example usage:\n",
        "todo_list = ToDoList()\n",
        "\n",
        "todo_list.add_task(\"Finish project\", \"2024-04-20\")\n",
        "todo_list.add_task(\"Buy groceries\", \"2024-04-22\")\n",
        "todo_list.add_task(\"Call Mom\", \"2024-04-25\")\n",
        "\n",
        "todo_list.display_pending_tasks()\n",
        "\n",
        "todo_list.mark_task_as_completed(\"Buy groceries\")\n",
        "\n",
        "todo_list.display_pending_tasks()"
      ],
      "metadata": {
        "colab": {
          "base_uri": "https://localhost:8080/"
        },
        "id": "OrS7W-IYovZN",
        "outputId": "51db1a0b-4e8e-42c7-8de1-ec49d750a4ed"
      },
      "id": "OrS7W-IYovZN",
      "execution_count": 27,
      "outputs": [
        {
          "output_type": "stream",
          "name": "stdout",
          "text": [
            "Task added successfully!\n",
            "Task added successfully!\n",
            "Task added successfully!\n",
            "Pending Tasks:\n",
            "- Finish project (Due: 2024-04-20)\n",
            "- Buy groceries (Due: 2024-04-22)\n",
            "- Call Mom (Due: 2024-04-25)\n",
            "Task marked as completed!\n",
            "Pending Tasks:\n",
            "- Finish project (Due: 2024-04-20)\n",
            "- Call Mom (Due: 2024-04-25)\n"
          ]
        }
      ]
    },
    {
      "cell_type": "code",
      "source": [
        "#END"
      ],
      "metadata": {
        "id": "RJY2ixg0ovc0"
      },
      "id": "RJY2ixg0ovc0",
      "execution_count": null,
      "outputs": []
    }
  ],
  "metadata": {
    "kernelspec": {
      "display_name": "Python 3 (ipykernel)",
      "language": "python",
      "name": "python3"
    },
    "language_info": {
      "codemirror_mode": {
        "name": "ipython",
        "version": 3
      },
      "file_extension": ".py",
      "mimetype": "text/x-python",
      "name": "python",
      "nbconvert_exporter": "python",
      "pygments_lexer": "ipython3",
      "version": "3.10.8"
    },
    "colab": {
      "provenance": []
    }
  },
  "nbformat": 4,
  "nbformat_minor": 5
}